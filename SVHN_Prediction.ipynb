{
  "cells": [
    {
      "cell_type": "markdown",
      "metadata": {
        "id": "gpEx-Jd1pYlP"
      },
      "source": [
        "# Deep Learning with Pytorch: Street View House Number Prediction\n",
        "\n",
        "\n",
        "\n",
        "\n",
        "\n",
        "\n"
      ]
    },
    {
      "cell_type": "markdown",
      "metadata": {
        "id": "ywLp-5aPgkjm"
      },
      "source": [
        "# Libraries and Setup\n",
        "\n"
      ]
    },
    {
      "cell_type": "markdown",
      "metadata": {
        "id": "RY5BOTyRg4Qf"
      },
      "source": [
        "## Import the required Libraries"
      ]
    },
    {
      "cell_type": "code",
      "execution_count": 1,
      "metadata": {
        "id": "6diQ4Pfug3uw"
      },
      "outputs": [],
      "source": [
        "import pandas as pd\n",
        "import numpy as np\n",
        "import matplotlib.pyplot as plt\n",
        "import seaborn as sns\n",
        "from matplotlib import cm\n",
        "from sklearn.model_selection import train_test_split\n",
        "import torch\n",
        "import torchvision\n",
        "from torchvision import transforms, utils\n",
        "import torch.nn as nn\n",
        "import torch.optim as optim\n",
        "import torchvision.transforms as transforms\n",
        "from collections import Counter\n",
        "from PIL import Image\n",
        "from skimage import io, transform\n",
        "import os\n",
        "from torchvision.io import read_image\n",
        "from torch.utils.data import Dataset, DataLoader\n",
        "from collections import Counter\n",
        "from google.colab import drive\n",
        "from prophet import Prophet\n",
        "from statsmodels.tsa.arima.model import ARIMA"
      ]
    },
    {
      "cell_type": "markdown",
      "metadata": {
        "id": "xq7rZTSc0xoq"
      },
      "source": [
        "## Set up GPU capabilities\n",
        "\n",
        "The cell below sets up a CUDA device to use with torch, if available to you.\n",
        "\n"
      ]
    },
    {
      "cell_type": "code",
      "execution_count": 2,
      "metadata": {
        "colab": {
          "base_uri": "https://localhost:8080/"
        },
        "id": "9Gvv3LVN0xo-",
        "outputId": "9fad3201-8650-476b-ca14-7355d14e342c"
      },
      "outputs": [
        {
          "output_type": "stream",
          "name": "stdout",
          "text": [
            "2.1.0+cu121\n",
            "cuda:0\n"
          ]
        }
      ],
      "source": [
        "torch.manual_seed(42)\n",
        "device = torch.device(\"cuda:0\" if torch.cuda.is_available() else \"cpu\")\n",
        "print(torch.__version__)\n",
        "print(device)"
      ]
    },
    {
      "cell_type": "code",
      "execution_count": 3,
      "metadata": {
        "colab": {
          "base_uri": "https://localhost:8080/"
        },
        "id": "ZO8Hr0MIw_KK",
        "outputId": "97ddc1f1-95c5-417c-b98e-08263515750b"
      },
      "outputs": [
        {
          "output_type": "execute_result",
          "data": {
            "text/plain": [
              "device(type='cuda', index=0)"
            ]
          },
          "metadata": {},
          "execution_count": 3
        }
      ],
      "source": [
        "device"
      ]
    },
    {
      "cell_type": "markdown",
      "metadata": {
        "id": "pUAu-nqZABre"
      },
      "source": [
        "# **Part 1:** Data Preprocessing and Preparation for Modeling in `PyTorch`\n",
        "\n"
      ]
    },
    {
      "cell_type": "markdown",
      "metadata": {
        "id": "ui_5UjEFABr9"
      },
      "source": [
        "The dataset is called Street View House Numbers (or SVHN). The dataset consists of images of **house numbers**, taken from Google Street View. There are 10 classes, one for each digit (0-9).\n",
        "\n",
        "We would be using this dataset to train 3 different models:\n",
        "\n",
        "1.   Logistic Regression\n",
        "2.   Feedforward (Fully-Connected) Neural Network (FNN)\n",
        "3.   Convolutional Neural Network (CNN)\n",
        "\n",
        "And analyze the difference between these models by looking at the test accuracy and loss."
      ]
    },
    {
      "cell_type": "markdown",
      "metadata": {
        "id": "r7fjLVpgABr9"
      },
      "source": [
        "## 1.1 Pytorch Dataset\n",
        "\n"
      ]
    },
    {
      "cell_type": "markdown",
      "metadata": {
        "id": "_KaEH3IfABr-"
      },
      "source": [
        "### 1.1.1 Instantiate Dataset (for train/test dataset)\n",
        "\n",
        "1.   Resize the image to 32 by 32 $\\to$ just to make sure they are really have size $32$x$32$\n",
        "2.   Convert the images to Tensor\n",
        "3.   Normalize the Tensor using, the means `[0.485, 0.456, 0.406]` and standard deviations `[0.229, 0.224, 0.225]`. We do this because these are color images, and so there are **three** color channels for which we need to normalize (r, g, b).\n"
      ]
    },
    {
      "cell_type": "code",
      "execution_count": 4,
      "metadata": {
        "id": "d4Cy6KgnABr-"
      },
      "outputs": [],
      "source": [
        "from torchvision import transforms\n",
        "scale = 32\n",
        "\n",
        "transforms = transforms.Compose([\n",
        "    transforms.Resize([scale, scale]), #resize\n",
        "    transforms.ToTensor(), #convert to tensor\n",
        "    transforms.Normalize(mean = [0.485, 0.456, 0.406], std = [0.229, 0.224, 0.225])\n",
        "    ])"
      ]
    },
    {
      "cell_type": "code",
      "execution_count": 5,
      "metadata": {
        "colab": {
          "base_uri": "https://localhost:8080/"
        },
        "id": "u3NY-T9uABr-",
        "outputId": "0e3797b3-7300-4cb0-dc70-04202728ef94"
      },
      "outputs": [
        {
          "output_type": "stream",
          "name": "stdout",
          "text": [
            "Downloading http://ufldl.stanford.edu/housenumbers/train_32x32.mat to ./data/train_32x32.mat\n"
          ]
        },
        {
          "output_type": "stream",
          "name": "stderr",
          "text": [
            "100%|██████████| 182040794/182040794 [00:28<00:00, 6388694.19it/s]\n"
          ]
        },
        {
          "output_type": "stream",
          "name": "stdout",
          "text": [
            "Downloading http://ufldl.stanford.edu/housenumbers/test_32x32.mat to ./data/test_32x32.mat\n"
          ]
        },
        {
          "output_type": "stream",
          "name": "stderr",
          "text": [
            "100%|██████████| 64275384/64275384 [00:14<00:00, 4485995.77it/s]\n"
          ]
        }
      ],
      "source": [
        "train_dataset = torchvision.datasets.SVHN(root = './data', split = 'train', transform = transforms, download = True)\n",
        "test_dataset = torchvision.datasets.SVHN(root = './data', split = 'test', transform = transforms, download = True)"
      ]
    },
    {
      "cell_type": "code",
      "execution_count": 6,
      "metadata": {
        "colab": {
          "base_uri": "https://localhost:8080/"
        },
        "id": "M652RMyNZTAS",
        "outputId": "1629387a-4ec8-4f94-a060-2f980b21dbe7"
      },
      "outputs": [
        {
          "output_type": "stream",
          "name": "stdout",
          "text": [
            "73257\n",
            "26032\n"
          ]
        }
      ],
      "source": [
        "print(len(train_dataset))\n",
        "print(len(test_dataset))"
      ]
    },
    {
      "cell_type": "markdown",
      "metadata": {
        "id": "asp-2shYABr_"
      },
      "source": [
        "## 1.2 Summarizing our Dataset\n",
        "\n"
      ]
    },
    {
      "cell_type": "markdown",
      "metadata": {
        "id": "Gth42e1eABr_"
      },
      "source": [
        "### 1.2.1 Looking at the distribution of labels\n",
        "\n"
      ]
    },
    {
      "cell_type": "code",
      "execution_count": 7,
      "metadata": {
        "colab": {
          "base_uri": "https://localhost:8080/"
        },
        "id": "ldIRXCQmABr_",
        "outputId": "a54f0db5-7ba3-41e4-ce88-278c16605adb"
      },
      "outputs": [
        {
          "output_type": "stream",
          "name": "stdout",
          "text": [
            "{1: 13861, 9: 4659, 2: 10585, 3: 8497, 5: 6882, 8: 5045, 7: 5595, 4: 7458, 6: 5727, 0: 4948}\n"
          ]
        }
      ],
      "source": [
        "all_train_labels = [label for (_, label) in train_dataset]\n",
        "\n",
        "train_num_labels = len(set(all_train_labels))\n",
        "\n",
        "train_dataset_dict = {}\n",
        "for x in all_train_labels:\n",
        "  if x in train_dataset_dict:\n",
        "    train_dataset_dict[x] += 1\n",
        "  else:\n",
        "    train_dataset_dict[x] = 1\n",
        "\n",
        "train_loader_bar_plot = DataLoader(train_dataset, batch_size = len(train_dataset), shuffle = True, num_workers = 0)\n",
        "\n",
        "print(train_dataset_dict)"
      ]
    },
    {
      "cell_type": "code",
      "execution_count": 8,
      "metadata": {
        "colab": {
          "base_uri": "https://localhost:8080/"
        },
        "id": "xuQyh4kFABsA",
        "outputId": "b3e64cde-4abc-4c4d-cd7c-726e860953bf"
      },
      "outputs": [
        {
          "output_type": "stream",
          "name": "stdout",
          "text": [
            "{5: 2384, 2: 4149, 1: 5099, 0: 1744, 6: 1977, 9: 1595, 8: 1660, 3: 2882, 4: 2523, 7: 2019}\n"
          ]
        }
      ],
      "source": [
        "all_test_labels = [label for (_, label) in test_dataset]\n",
        "\n",
        "test_num_labels = len(set(all_test_labels))\n",
        "\n",
        "test_dataset_dict = {}\n",
        "for x in all_test_labels:\n",
        "  if x in test_dataset_dict:\n",
        "    test_dataset_dict[x] += 1\n",
        "  else:\n",
        "    test_dataset_dict[x] = 1\n",
        "\n",
        "test_loader_bar_plot = DataLoader(test_dataset, batch_size = len(test_dataset), shuffle = True, num_workers = 0)\n",
        "\n",
        "print(test_dataset_dict)"
      ]
    },
    {
      "cell_type": "markdown",
      "metadata": {
        "id": "5R_yIBZIABsA"
      },
      "source": [
        "### 1.2.2 Visualize through bar charts\n",
        "\n"
      ]
    },
    {
      "cell_type": "code",
      "execution_count": 9,
      "metadata": {
        "id": "tv0t3IA6ABsA",
        "colab": {
          "base_uri": "https://localhost:8080/",
          "height": 564
        },
        "outputId": "dcb0689d-2c96-40b9-fa85-fc6fbdd66e9c"
      },
      "outputs": [
        {
          "output_type": "display_data",
          "data": {
            "text/plain": [
              "<Figure size 800x600 with 1 Axes>"
            ],
            "image/png": "[encoded data removed]"
          },
          "metadata": {}
        }
      ],
      "source": [
        "data = pd.DataFrame(list(train_dataset_dict.items()), columns = ['Label', 'Frequency'])\n",
        "plt.figure(figsize=(8, 6))\n",
        "ax = sns.barplot(x = 'Label', y = 'Frequency', data = data)\n",
        "ax.bar_label(ax.containers[0])\n",
        "plt.title('Training set labels and corresponding frequencies')\n",
        "plt.xlabel('Labels')\n",
        "plt.ylabel('Frequency')\n",
        "plt.show()"
      ]
    },
    {
      "cell_type": "code",
      "execution_count": 10,
      "metadata": {
        "id": "Iy3II4AnABsB",
        "colab": {
          "base_uri": "https://localhost:8080/",
          "height": 564
        },
        "outputId": "7f453e0d-1ea2-46fb-e9f3-eb1c884a722d"
      },
      "outputs": [
        {
          "output_type": "display_data",
          "data": {
            "text/plain": [
              "<Figure size 800x600 with 1 Axes>"
            ],
            "image/png": "[encoded data removed]"
          },
          "metadata": {}
        }
      ],
      "source": [
        "data = pd.DataFrame(list(test_dataset_dict.items()), columns = ['Label', 'Frequency'])\n",
        "plt.figure(figsize=(8, 6))\n",
        "ax = sns.barplot(x = 'Label', y = 'Frequency', data = data)\n",
        "ax.bar_label(ax.containers[0])\n",
        "plt.title('Testing set labels and corresponding frequencies')\n",
        "plt.xlabel('Labels')\n",
        "plt.ylabel('Frequency')\n",
        "plt.show()"
      ]
    },
    {
      "cell_type": "markdown",
      "metadata": {
        "id": "Ea7fpC8CZTAW"
      },
      "source": [
        "### 1.2.3 Have equal spread of labels\n",
        "\n",
        "\n"
      ]
    },
    {
      "cell_type": "code",
      "execution_count": 11,
      "metadata": {
        "id": "lrxFMF4SZTAW"
      },
      "outputs": [],
      "source": [
        "torch.manual_seed(42)\n",
        "\n",
        "train_indices = []\n",
        "\n",
        "train_count_dict = {label: 0 for label in range(10)}\n",
        "\n",
        "for idx, (image, label) in enumerate(train_dataset):\n",
        "  if (train_count_dict[label] < 3000):\n",
        "    train_count_dict[label] += 1\n",
        "    train_indices.append(idx)"
      ]
    },
    {
      "cell_type": "code",
      "execution_count": 12,
      "metadata": {
        "id": "Iqn-F8L_BBqs"
      },
      "outputs": [],
      "source": [
        "torch.manual_seed(42)\n",
        "\n",
        "test_indices = []\n",
        "\n",
        "test_count_dict = {label: 0 for label in range(10)}\n",
        "\n",
        "for idx, (image, label) in enumerate(test_dataset):\n",
        "  if (test_count_dict[label] < 500):\n",
        "    test_count_dict[label] += 1\n",
        "    test_indices.append(idx)\n"
      ]
    },
    {
      "cell_type": "code",
      "execution_count": 13,
      "metadata": {
        "id": "5kxD9B2JZTAW"
      },
      "outputs": [],
      "source": [
        "from torch.utils.data import Subset\n",
        "train_subset = Subset(train_dataset, train_indices)\n",
        "test_subset = Subset(test_dataset, test_indices)"
      ]
    },
    {
      "cell_type": "code",
      "execution_count": 14,
      "metadata": {
        "id": "fvs3wVcnZTAX"
      },
      "outputs": [],
      "source": [
        "train_subset_dict = dict()\n",
        "test_subset_dict = dict()\n",
        "\n",
        "for (_, label) in train_subset:\n",
        "  if label in train_subset_dict:\n",
        "    train_subset_dict[label] += 1\n",
        "  else:\n",
        "    train_subset_dict[label] = 1\n",
        "\n",
        "for (_, label) in test_subset:\n",
        "  if label in test_subset_dict:\n",
        "    test_subset_dict[label] += 1\n",
        "  else:\n",
        "    test_subset_dict[label] = 1\n"
      ]
    },
    {
      "cell_type": "code",
      "execution_count": 15,
      "metadata": {
        "id": "w7jfaN8rABsC"
      },
      "outputs": [],
      "source": [
        "batch = 64\n",
        "\n",
        "train_loader = DataLoader(train_subset, batch_size = batch, shuffle = True, num_workers = 0)\n",
        "test_loader = DataLoader(test_subset, batch_size = batch, shuffle = True, num_workers = 0)"
      ]
    },
    {
      "cell_type": "markdown",
      "metadata": {
        "id": "efWfR1ZFvFGw"
      },
      "source": [
        "# **Part 2:** Classification Models\n"
      ]
    },
    {
      "cell_type": "markdown",
      "metadata": {
        "id": "GIytVVJbm3Ih"
      },
      "source": [
        "## 2.1 Multimonial Logical Logistic Regression - Baseline\n",
        "\n"
      ]
    },
    {
      "cell_type": "markdown",
      "metadata": {
        "id": "5cVmxiP0m3In"
      },
      "source": [
        "### 2.1.1 Logistic Regression Model Architecture\n",
        "\n"
      ]
    },
    {
      "cell_type": "code",
      "execution_count": 16,
      "metadata": {
        "id": "8vIXliDkm3Io"
      },
      "outputs": [],
      "source": [
        "class LogReg(nn.Module):\n",
        "    def __init__(self):\n",
        "        super().__init__()\n",
        "        self.flatten = nn.Flatten()\n",
        "        self.weight = nn.Linear(3072, 10)\n",
        "\n",
        "    def forward(self, x):\n",
        "        x = self.flatten(x)\n",
        "        outputs = self.weight(x)\n",
        "        return outputs"
      ]
    },
    {
      "cell_type": "code",
      "execution_count": 17,
      "metadata": {
        "id": "BkIy0N4Wm3Iq",
        "colab": {
          "base_uri": "https://localhost:8080/"
        },
        "outputId": "0c009acd-c1e9-4934-df5c-2131dd84bdeb"
      },
      "outputs": [
        {
          "output_type": "execute_result",
          "data": {
            "text/plain": [
              "LogReg(\n",
              "  (flatten): Flatten(start_dim=1, end_dim=-1)\n",
              "  (weight): Linear(in_features=3072, out_features=10, bias=True)\n",
              ")"
            ]
          },
          "metadata": {},
          "execution_count": 17
        }
      ],
      "source": [
        "LogReg()"
      ]
    },
    {
      "cell_type": "markdown",
      "metadata": {
        "id": "jesvQ9qBm3Ir"
      },
      "source": [
        "### 2.1.2 Training Logistic Regression Model\n"
      ]
    },
    {
      "cell_type": "code",
      "execution_count": 18,
      "metadata": {
        "id": "tmdlh86xm3Ir",
        "colab": {
          "base_uri": "https://localhost:8080/"
        },
        "outputId": "ec30b192-a288-47be-d690-612f54ffc553"
      },
      "outputs": [
        {
          "output_type": "stream",
          "name": "stdout",
          "text": [
            "The loss for Epoch 0 is: 2.294868260812658, Accuracy = 15.456666666666667\n",
            "The loss for Epoch 1 is: 2.2512056375109055, Accuracy = 19.833333333333332\n",
            "The loss for Epoch 2 is: 2.2364569660951332, Accuracy = 21.19\n",
            "The loss for Epoch 3 is: 2.2264728881656994, Accuracy = 22.26\n",
            "The loss for Epoch 4 is: 2.2200731529609987, Accuracy = 22.893333333333334\n",
            "The loss for Epoch 5 is: 2.2169547172497586, Accuracy = 23.053333333333335\n",
            "The loss for Epoch 6 is: 2.2112679328999794, Accuracy = 23.82\n",
            "The loss for Epoch 7 is: 2.2074272693601498, Accuracy = 24.276666666666667\n",
            "The loss for Epoch 8 is: 2.207447666603365, Accuracy = 23.976666666666667\n",
            "The loss for Epoch 9 is: 2.201991613485666, Accuracy = 24.406666666666666\n",
            "CPU times: user 1min 49s, sys: 816 ms, total: 1min 49s\n",
            "Wall time: 2min 7s\n"
          ]
        }
      ],
      "source": [
        "%%time\n",
        "logreg = LogReg().to(device='cuda:0')\n",
        "criterion = nn.CrossEntropyLoss()\n",
        "\n",
        "optimizer = optim.Adam(logreg.parameters(), lr=1e-4) #lr - learning step\n",
        "epoch = 10\n",
        "\n",
        "loss_LIST_log = []\n",
        "acc_LIST_log = []\n",
        "\n",
        "for epoch in range(epoch):\n",
        "  running_loss = 0.0\n",
        "  correct = 0\n",
        "  total = 0\n",
        "  for inputs, labels in train_loader:\n",
        "      labels = labels.type(torch.LongTensor) # Cast to Float\n",
        "      inputs, labels = inputs.to(device), labels.to(device)\n",
        "\n",
        "      optimizer.zero_grad()\n",
        "      outputs = logreg(inputs)\n",
        "      predicted = outputs.argmax(dim=1)\n",
        "      loss = criterion(outputs, labels)\n",
        "      loss.backward()\n",
        "      optimizer.step()\n",
        "      running_loss += loss.item()\n",
        "      total += labels.size(0)\n",
        "      correct += (predicted == labels).sum().item()\n",
        "\n",
        "  accuracy = 100 * correct / total\n",
        "  acc_LIST_log.append(accuracy)\n",
        "  epoch_loss = running_loss / len(train_loader)\n",
        "  loss_LIST_log.append(epoch_loss)\n",
        "\n",
        "  print(\"The loss for Epoch {} is: {}, Accuracy = {}\".format(epoch, running_loss/len(train_loader), accuracy))"
      ]
    },
    {
      "cell_type": "markdown",
      "metadata": {
        "id": "e0LrNmOvm3Is"
      },
      "source": [
        "### 2.1.3 Plotting Training Accuracy vs Epochs for Logistic Regression\n"
      ]
    },
    {
      "cell_type": "code",
      "execution_count": 19,
      "metadata": {
        "id": "2VpyKMjem3Is",
        "colab": {
          "base_uri": "https://localhost:8080/",
          "height": 351
        },
        "outputId": "48d48399-6ae0-46ef-f497-03cb63b2cb1a"
      },
      "outputs": [
        {
          "output_type": "execute_result",
          "data": {
            "text/plain": [
              "Text(0.5, 1.0, 'Training Accuracy vs Epochs for Logistic Regression')"
            ]
          },
          "metadata": {},
          "execution_count": 19
        },
        {
          "output_type": "display_data",
          "data": {
            "text/plain": [
              "<Figure size 500x300 with 1 Axes>"
            ],
            "image/png": "[encoded data removed]"
          },
          "metadata": {}
        }
      ],
      "source": [
        "import matplotlib.pyplot as plt\n",
        "import seaborn as sns\n",
        "\n",
        "\n",
        "df = pd.DataFrame(acc_LIST_log, columns = ['accuracy'])\n",
        "\n",
        "plt.figure(figsize=(5, 3))\n",
        "sns.lineplot(x = range(1, 11), y = 'accuracy', data = df)\n",
        "plt.xticks(range(1, 11))\n",
        "plt.xlabel('Epochs')\n",
        "plt.ylabel('Accuracy')\n",
        "plt.title('Training Accuracy vs Epochs for Logistic Regression')"
      ]
    },
    {
      "cell_type": "markdown",
      "metadata": {
        "id": "IrJ6qz4Rm3It"
      },
      "source": [
        "### 2.1.4 Logistic Regression Model Accuracy\n"
      ]
    },
    {
      "cell_type": "code",
      "execution_count": 20,
      "metadata": {
        "id": "sbAYsblXm3It",
        "colab": {
          "base_uri": "https://localhost:8080/"
        },
        "outputId": "f1166c2d-ccc0-4302-f912-ffeded89f353"
      },
      "outputs": [
        {
          "output_type": "stream",
          "name": "stdout",
          "text": [
            "Test Accuracy: 19.34000015258789\n"
          ]
        }
      ],
      "source": [
        "total = 0\n",
        "correct = 0\n",
        "with torch.no_grad():\n",
        "    for images, labels in test_loader:\n",
        "        labels = labels.type(torch.LongTensor) # Cast to Float\n",
        "        images, labels = images.to(device), labels.to(device)\n",
        "\n",
        "        outputs = logreg(images)\n",
        "        predicted = outputs.argmax(dim = 1)\n",
        "        total += labels.size(0)\n",
        "        correct += (predicted == labels).sum().item()\n",
        "\n",
        "test_acc_log = torch.tensor(100 * correct / total)\n",
        "\n",
        "print('Test Accuracy: ' + str(test_acc_log.item()))"
      ]
    },
    {
      "cell_type": "markdown",
      "metadata": {
        "id": "3YxGiHhWHM6b"
      },
      "source": [
        "## 2.2 Feedforward Neural Networks\n",
        "\n"
      ]
    },
    {
      "cell_type": "markdown",
      "metadata": {
        "id": "QfbU0GmSm3Iv"
      },
      "source": [
        "### 2.2.1 Feedforward Neural Network Model Architecture"
      ]
    },
    {
      "cell_type": "code",
      "execution_count": 21,
      "metadata": {
        "id": "zeydGGFYPiYz"
      },
      "outputs": [],
      "source": [
        "def raw_sample_to_red(sample):\n",
        "  # convert an input tensor of shape (batch_size, 3, 32, 32) to just contain the red values\n",
        "  return sample[:, 0, :, :].unsqueeze(1)\n",
        "  pass\n",
        "\n",
        "def raw_sample_to_grayscale(sample):\n",
        "  # convert an input tensor of shape (batch_size, 3, 32, 32) to just contain the grey scale values\n",
        "  return sample.mean(dim = 1).unsqueeze(1)\n",
        "  pass\n"
      ]
    },
    {
      "cell_type": "markdown",
      "metadata": {
        "id": "Lsgte_E_PyT_"
      },
      "source": [
        "### 2.2.2 Feedforward Neural Network Model Architecture\n",
        "\n",
        "\n"
      ]
    },
    {
      "cell_type": "code",
      "execution_count": 22,
      "metadata": {
        "id": "7ZVvgyJVm3Iv"
      },
      "outputs": [],
      "source": [
        "class FNN(nn.Module):\n",
        "    def __init__(self):\n",
        "        super().__init__()\n",
        "        self.flatten = nn.Flatten()\n",
        "        self.linear1 = nn.Linear(1024, 256)\n",
        "        self.relu = nn.ReLU()\n",
        "        self.linear2 = nn.Linear(256, 10)\n",
        "\n",
        "    def forward(self, x):\n",
        "        x = self.flatten(x)\n",
        "        hidden_feat = self.relu(self.linear1(x))\n",
        "        outputs = self.linear2(hidden_feat)\n",
        "\n",
        "        return outputs"
      ]
    },
    {
      "cell_type": "code",
      "execution_count": 23,
      "metadata": {
        "id": "g8Voqj1-m3Iw",
        "colab": {
          "base_uri": "https://localhost:8080/"
        },
        "outputId": "b22b7566-7091-41a6-ff11-1b84e8b48028"
      },
      "outputs": [
        {
          "output_type": "execute_result",
          "data": {
            "text/plain": [
              "FNN(\n",
              "  (flatten): Flatten(start_dim=1, end_dim=-1)\n",
              "  (linear1): Linear(in_features=1024, out_features=256, bias=True)\n",
              "  (relu): ReLU()\n",
              "  (linear2): Linear(in_features=256, out_features=10, bias=True)\n",
              ")"
            ]
          },
          "metadata": {},
          "execution_count": 23
        }
      ],
      "source": [
        "FNN()"
      ]
    },
    {
      "cell_type": "markdown",
      "metadata": {
        "id": "JUaHAHLum3Iw"
      },
      "source": [
        "### 2.2.3 Training FNN Model\n"
      ]
    },
    {
      "cell_type": "code",
      "execution_count": 24,
      "metadata": {
        "id": "WSechmCnm3Ix",
        "colab": {
          "base_uri": "https://localhost:8080/"
        },
        "outputId": "073315a6-25d1-4c4b-e72c-7a63dde2109c"
      },
      "outputs": [
        {
          "output_type": "stream",
          "name": "stdout",
          "text": [
            "The loss for Epoch 0 is: 2.0135665745623332, Accuracy = 37.42\n",
            "The loss for Epoch 1 is: 1.48142225096729, Accuracy = 59.95333333333333\n",
            "The loss for Epoch 2 is: 1.2419035458869772, Accuracy = 65.32\n",
            "The loss for Epoch 3 is: 1.1195390017302052, Accuracy = 68.26333333333334\n",
            "The loss for Epoch 4 is: 1.0408877373250054, Accuracy = 70.06\n",
            "The loss for Epoch 5 is: 0.9799431406104488, Accuracy = 71.54333333333334\n",
            "The loss for Epoch 6 is: 0.9300214896069915, Accuracy = 73.08\n",
            "The loss for Epoch 7 is: 0.8869746172351878, Accuracy = 74.17333333333333\n",
            "The loss for Epoch 8 is: 0.8479885664830076, Accuracy = 75.38666666666667\n",
            "The loss for Epoch 9 is: 0.8148379196236128, Accuracy = 76.36666666666666\n",
            "CPU times: user 1min 47s, sys: 532 ms, total: 1min 47s\n",
            "Wall time: 2min 4s\n"
          ]
        }
      ],
      "source": [
        "%%time\n",
        "\n",
        "\n",
        "fnn_red = FNN().to(device)\n",
        "criterion = nn.CrossEntropyLoss()\n",
        "optimizer = optim.Adam(fnn_red.parameters(), lr=1e-4) #lr - learning step\n",
        "epoch = 10\n",
        "\n",
        "acc_LIST_FNN_red = []\n",
        "loss_LIST_FNN_red = []\n",
        "\n",
        "for epoch in range(epoch):\n",
        "  running_loss = 0.0\n",
        "  correct = 0\n",
        "  total = 0\n",
        "  for inputs, labels in train_loader:\n",
        "      labels = labels.type(torch.LongTensor) # Cast to Long\n",
        "      inputs, labels = inputs.to(device), labels.to(device)\n",
        "\n",
        "      optimizer.zero_grad()\n",
        "      outputs = fnn_red(raw_sample_to_red(inputs))\n",
        "      predicted = outputs.argmax(dim = 1)\n",
        "      loss = criterion(outputs, labels)\n",
        "      loss.backward()\n",
        "      optimizer.step()\n",
        "      running_loss += loss.item()\n",
        "      total += labels.size(0)\n",
        "      correct += (predicted == labels).sum().item()\n",
        "\n",
        "  accuracy = 100 * correct / total\n",
        "  acc_LIST_FNN_red.append(accuracy)\n",
        "  epoch_loss = running_loss / len(train_loader)\n",
        "  loss_LIST_FNN_red.append(epoch_loss)\n",
        "\n",
        "  print(\"The loss for Epoch {} is: {}, Accuracy = {}\".format(epoch, running_loss/len(train_loader), accuracy))\n",
        "\n"
      ]
    },
    {
      "cell_type": "code",
      "execution_count": 25,
      "metadata": {
        "id": "HsvJJhlXQ1MA",
        "colab": {
          "base_uri": "https://localhost:8080/"
        },
        "outputId": "8b600380-e2c8-43f9-ba80-6982a2a29e88"
      },
      "outputs": [
        {
          "output_type": "stream",
          "name": "stdout",
          "text": [
            "The loss for Epoch 0 is: 2.0429599630807256, Accuracy = 36.70333333333333\n",
            "The loss for Epoch 1 is: 1.4900320976781947, Accuracy = 61.166666666666664\n",
            "The loss for Epoch 2 is: 1.2286106598402646, Accuracy = 66.41666666666667\n",
            "The loss for Epoch 3 is: 1.100222826766561, Accuracy = 69.09\n",
            "The loss for Epoch 4 is: 1.016903556232005, Accuracy = 71.19\n",
            "The loss for Epoch 5 is: 0.9527662138440716, Accuracy = 72.93333333333334\n",
            "The loss for Epoch 6 is: 0.9028025063624514, Accuracy = 74.41333333333333\n",
            "The loss for Epoch 7 is: 0.859273141126897, Accuracy = 75.38\n",
            "The loss for Epoch 8 is: 0.8218277134874991, Accuracy = 76.49\n",
            "The loss for Epoch 9 is: 0.7890122014322261, Accuracy = 77.57\n",
            "CPU times: user 1min 41s, sys: 520 ms, total: 1min 41s\n",
            "Wall time: 1min 51s\n"
          ]
        }
      ],
      "source": [
        "%%time\n",
        "\n",
        "fnn_gray = FNN().to(device)\n",
        "criterion = nn.CrossEntropyLoss()\n",
        "optimizer = optim.Adam(fnn_gray.parameters(), lr=1e-4) #lr - learning step\n",
        "epoch = 10\n",
        "\n",
        "acc_LIST_FNN_gray = []\n",
        "loss_LIST_FNN_gray = []\n",
        "\n",
        "for epoch in range(epoch):\n",
        "  running_loss = 0.0\n",
        "  correct = 0\n",
        "  total = 0\n",
        "  for inputs, labels in train_loader:\n",
        "      labels = labels.type(torch.LongTensor) # Cast to Long\n",
        "      inputs, labels = inputs.to(device), labels.to(device)\n",
        "\n",
        "      optimizer.zero_grad()\n",
        "      outputs = fnn_gray(raw_sample_to_grayscale(inputs))\n",
        "      predicted = outputs.argmax(dim = 1)\n",
        "      loss = criterion(outputs, labels)\n",
        "      loss.backward()\n",
        "      optimizer.step()\n",
        "      running_loss += loss.item()\n",
        "      total += labels.size(0)\n",
        "      correct += (predicted == labels).sum().item()\n",
        "\n",
        "  accuracy = 100 * correct / total\n",
        "  acc_LIST_FNN_gray.append(accuracy)\n",
        "  epoch_loss = running_loss / len(train_loader)\n",
        "  loss_LIST_FNN_gray.append(epoch_loss)\n",
        "\n",
        "  print(\"The loss for Epoch {} is: {}, Accuracy = {}\".format(epoch, running_loss/len(train_loader), accuracy))"
      ]
    },
    {
      "cell_type": "markdown",
      "metadata": {
        "id": "4hTVoOhJRHur"
      },
      "source": [
        "### 2.2.4 Feed Forward Network on Raw Inputs Architecture\n"
      ]
    },
    {
      "cell_type": "code",
      "execution_count": 26,
      "metadata": {
        "id": "r45_JEyPRJp5"
      },
      "outputs": [],
      "source": [
        "class FNN_RAW(nn.Module):\n",
        "    def __init__(self):\n",
        "        super().__init__()\n",
        "        self.flatten = nn.Flatten()\n",
        "        self.linear1 = nn.Linear(3072, 256)\n",
        "        self.relu = nn.ReLU()\n",
        "        self.linear2 = nn.Linear(256, 10)\n",
        "\n",
        "    def forward(self, x):\n",
        "        x = self.flatten(x)\n",
        "        hidden_feat = self.relu(self.linear1(x))\n",
        "        outputs = self.linear2(hidden_feat)\n",
        "\n",
        "        return outputs"
      ]
    },
    {
      "cell_type": "code",
      "execution_count": 27,
      "metadata": {
        "id": "14W4qndiRQW5",
        "colab": {
          "base_uri": "https://localhost:8080/"
        },
        "outputId": "0cee7a76-8e0c-4bfa-9d32-7d46bd7ddc6d"
      },
      "outputs": [
        {
          "output_type": "execute_result",
          "data": {
            "text/plain": [
              "FNN_RAW(\n",
              "  (flatten): Flatten(start_dim=1, end_dim=-1)\n",
              "  (linear1): Linear(in_features=3072, out_features=256, bias=True)\n",
              "  (relu): ReLU()\n",
              "  (linear2): Linear(in_features=256, out_features=10, bias=True)\n",
              ")"
            ]
          },
          "metadata": {},
          "execution_count": 27
        }
      ],
      "source": [
        "FNN_RAW()"
      ]
    },
    {
      "cell_type": "code",
      "execution_count": 28,
      "metadata": {
        "id": "666p7SSaRWIh",
        "colab": {
          "base_uri": "https://localhost:8080/"
        },
        "outputId": "8329b2cf-8f7f-4e2a-d494-4caecd2434c6"
      },
      "outputs": [
        {
          "output_type": "stream",
          "name": "stdout",
          "text": [
            "The loss for Epoch 0 is: 1.8007053490132412, Accuracy = 44.486666666666665\n",
            "The loss for Epoch 1 is: 1.2172253021299204, Accuracy = 65.46333333333334\n",
            "The loss for Epoch 2 is: 1.0385899323898593, Accuracy = 69.94\n",
            "The loss for Epoch 3 is: 0.9349734237961678, Accuracy = 72.85333333333334\n",
            "The loss for Epoch 4 is: 0.8634018833194969, Accuracy = 74.69333333333333\n",
            "The loss for Epoch 5 is: 0.8054054465883577, Accuracy = 76.56\n",
            "The loss for Epoch 6 is: 0.7551928737651564, Accuracy = 78.06333333333333\n",
            "The loss for Epoch 7 is: 0.7146448535578591, Accuracy = 79.37\n",
            "The loss for Epoch 8 is: 0.6801092510919835, Accuracy = 80.34\n",
            "The loss for Epoch 9 is: 0.6485053011095092, Accuracy = 81.28\n",
            "CPU times: user 2min 8s, sys: 647 ms, total: 2min 8s\n",
            "Wall time: 2min 38s\n"
          ]
        }
      ],
      "source": [
        "%%time\n",
        "\n",
        "fnn = FNN_RAW().to(device)\n",
        "criterion = nn.CrossEntropyLoss()\n",
        "optimizer = optim.Adam(fnn.parameters(), lr=1e-4)\n",
        "epoch = 10\n",
        "\n",
        "acc_LIST_FNN = []\n",
        "loss_LIST_FNN = []\n",
        "\n",
        "for epoch in range(epoch):\n",
        "  running_loss = 0.0\n",
        "  correct = 0\n",
        "  total = 0\n",
        "  for inputs, labels in train_loader:\n",
        "      labels = labels.type(torch.LongTensor) # Cast to Long\n",
        "      inputs, labels = inputs.to(device), labels.to(device)\n",
        "\n",
        "      optimizer.zero_grad()\n",
        "      outputs = fnn(inputs)\n",
        "      predicted = outputs.argmax(dim = 1)\n",
        "      loss = criterion(outputs, labels)\n",
        "      loss.backward()\n",
        "      optimizer.step()\n",
        "      running_loss += loss.item()\n",
        "      total += labels.size(0)\n",
        "      correct += (predicted == labels).sum().item()\n",
        "\n",
        "  accuracy = 100 * correct / total\n",
        "  acc_LIST_FNN.append(accuracy)\n",
        "  epoch_loss = running_loss / len(train_loader)\n",
        "  loss_LIST_FNN.append(epoch_loss)\n",
        "\n",
        "  print(\"The loss for Epoch {} is: {}, Accuracy = {}\".format(epoch, running_loss/len(train_loader), accuracy))"
      ]
    },
    {
      "cell_type": "markdown",
      "metadata": {
        "id": "DY0zMmGAm3Ix"
      },
      "source": [
        "### 2.2.5 Plotting Training Accuracy vs Epochs FNN\n",
        "\n"
      ]
    },
    {
      "cell_type": "code",
      "execution_count": null,
      "metadata": {
        "id": "vIGWgoY3m3Ix",
        "colab": {
          "base_uri": "https://localhost:8080/",
          "height": 333
        },
        "outputId": "18931db9-7876-4036-db4b-e1694b9f15ed"
      },
      "outputs": [
        {
          "output_type": "display_data",
          "data": {
            "text/plain": [
              "<Figure size 500x300 with 1 Axes>"
            ],
            "image/png": "[encoded data removed]"
          },
          "metadata": {}
        }
      ],
      "source": [
        "import matplotlib.pyplot as plt\n",
        "import seaborn as sns\n",
        "\n",
        "plt.figure(figsize=(5, 3))\n",
        "df = pd.DataFrame({'red_accuracy': acc_LIST_FNN_red, 'grayscale_accuracy': acc_LIST_FNN_gray, 'raw_accuracy': acc_LIST_FNN})\n",
        "x_range = range(1, 11)\n",
        "sns.lineplot(x = x_range, y = 'red_accuracy', data = df, label = 'Red')\n",
        "sns.lineplot(x = x_range, y = 'grayscale_accuracy', data = df, label = 'Grayscale')\n",
        "sns.lineplot(x = x_range, y = 'raw_accuracy', data = df, label = 'Raw')\n",
        "plt.legend(title = 'FNN model')\n",
        "plt.xticks(x_range)\n",
        "plt.title('Training Accuracy vs Epochs')\n",
        "plt.xlabel('Epochs')\n",
        "plt.ylabel('Accuracy')\n",
        "plt.show()\n"
      ]
    },
    {
      "cell_type": "markdown",
      "metadata": {
        "id": "_LCcYIAWm3Iy"
      },
      "source": [
        "### 2.2.6 FNN Model Accuracy\n"
      ]
    },
    {
      "cell_type": "code",
      "execution_count": 29,
      "metadata": {
        "id": "WAyibXsEm3Iy",
        "colab": {
          "base_uri": "https://localhost:8080/"
        },
        "outputId": "4071ca24-c550-4c9f-bc91-49912390c862"
      },
      "outputs": [
        {
          "output_type": "stream",
          "name": "stdout",
          "text": [
            "Test Accuracy (Red Values Only): 70.5\n",
            "Test Accuracy (Grayscale Values Only): 71.45999908447266\n",
            "Test Accuracy (All Values): 74.22000122070312\n"
          ]
        }
      ],
      "source": [
        "total = 0\n",
        "correct_fnn = 0\n",
        "correct_fnn_red = 0\n",
        "correct_fnn_gray = 0\n",
        "with torch.no_grad():\n",
        "    for images, labels in test_loader:\n",
        "        labels = labels.type(torch.LongTensor) # Cast to Float\n",
        "        images, labels = images.to(device), labels.to(device)\n",
        "\n",
        "        outputs_red = fnn_red(raw_sample_to_red(images))\n",
        "        outputs_gray = fnn_gray(raw_sample_to_grayscale(images))\n",
        "        outputs_raw = fnn(images)\n",
        "        # Get the prediction using argmax\n",
        "        predicted_red = outputs_red.argmax(dim = 1)\n",
        "        predicted_gray = outputs_gray.argmax(dim = 1)\n",
        "        predicted_raw = outputs_raw.argmax(dim = 1)\n",
        "        # Get number of correct prediction and add to correct and total\n",
        "        total += labels.size(0)\n",
        "        correct_fnn_red += (predicted_red == labels).sum().item()\n",
        "        correct_fnn_gray += (predicted_gray == labels).sum().item()\n",
        "        correct_fnn += (predicted_raw == labels).sum().item()\n",
        "\n",
        "# Calculate test accuracy for FNN\n",
        "test_acc_FNN_red = torch.tensor(100 * correct_fnn_red / total)\n",
        "test_acc_FNN_gray = torch.tensor(100 * correct_fnn_gray / total)\n",
        "test_acc_FNN = torch.tensor(100 * correct_fnn / total)\n",
        "\n",
        "print('Test Accuracy (Red Values Only): ' + str(test_acc_FNN_red.item()))\n",
        "print('Test Accuracy (Grayscale Values Only): ' + str(test_acc_FNN_gray.item()))\n",
        "print('Test Accuracy (All Values): ' + str(test_acc_FNN.item()))\n"
      ]
    },
    {
      "cell_type": "markdown",
      "metadata": {
        "id": "9gnLzDIWGiYv"
      },
      "source": [
        "##2.3 Convolutional Neural Networks\n",
        "\n",
        "\n"
      ]
    },
    {
      "cell_type": "markdown",
      "metadata": {
        "id": "5hZ19uCgt5dV"
      },
      "source": [
        "### 2.3.0 Calculating Output Dimensions of Convolution and Pooling Layers"
      ]
    },
    {
      "cell_type": "code",
      "execution_count": 30,
      "metadata": {
        "id": "A3drwoLht5dX"
      },
      "outputs": [],
      "source": [
        "import math\n",
        "\n",
        "def feature_map_dim(input_dim, padding, kernel_size, stride):\n",
        "  return int((input_dim + (2 * padding) - (kernel_size - 1) - 1) / stride + 1)"
      ]
    },
    {
      "cell_type": "markdown",
      "metadata": {
        "id": "NrNiZOMc49uR"
      },
      "source": [
        "### 2.3.1 Creating custom Convolutional Neural Network Architecture"
      ]
    },
    {
      "cell_type": "code",
      "execution_count": 31,
      "metadata": {
        "id": "0pLMEFjF8NhO"
      },
      "outputs": [],
      "source": [
        "class CNN(nn.Module):\n",
        "    def __init__(self):\n",
        "        super().__init__()\n",
        "        self.conv = nn.Conv2d(in_channels = 3, out_channels = 16, kernel_size = 3, stride = 1, padding = 1)\n",
        "        self.conv2 = nn.Conv2d(in_channels = 16, out_channels = 32, kernel_size = 3, stride = 1, padding = 1)\n",
        "        self.mp = nn.MaxPool2d(kernel_size=2, stride = 2)\n",
        "        self.relu = nn.ReLU()\n",
        "        self.flatten = nn.Flatten(start_dim=1)\n",
        "        size = feature_map_dim(32, 1, 3, 1)\n",
        "        size = feature_map_dim(size, 0, 2, 2)\n",
        "        size = feature_map_dim(size, 1, 3, 1)\n",
        "        size = feature_map_dim(size, 0, 2, 2)\n",
        "        self.fc = nn.Linear(32 * size * size, out_features=10)\n",
        "\n",
        "    def forward(self, x):\n",
        "      outputs = self.conv(x)\n",
        "      outputs = self.relu(outputs)\n",
        "      outputs = self.mp(outputs)\n",
        "      outputs = self.conv2(outputs)\n",
        "      outputs = self.relu(outputs)\n",
        "      outputs = self.mp(outputs)\n",
        "      outputs = self.flatten(outputs)\n",
        "      outputs = self.fc(outputs)\n",
        "      return outputs"
      ]
    },
    {
      "cell_type": "code",
      "execution_count": 32,
      "metadata": {
        "id": "ujHmdgFa870L",
        "colab": {
          "base_uri": "https://localhost:8080/"
        },
        "outputId": "e457ee03-de79-4934-b324-56254772311c"
      },
      "outputs": [
        {
          "output_type": "execute_result",
          "data": {
            "text/plain": [
              "CNN(\n",
              "  (conv): Conv2d(3, 16, kernel_size=(3, 3), stride=(1, 1), padding=(1, 1))\n",
              "  (conv2): Conv2d(16, 32, kernel_size=(3, 3), stride=(1, 1), padding=(1, 1))\n",
              "  (mp): MaxPool2d(kernel_size=2, stride=2, padding=0, dilation=1, ceil_mode=False)\n",
              "  (relu): ReLU()\n",
              "  (flatten): Flatten(start_dim=1, end_dim=-1)\n",
              "  (fc): Linear(in_features=2048, out_features=10, bias=True)\n",
              ")"
            ]
          },
          "metadata": {},
          "execution_count": 32
        }
      ],
      "source": [
        "CNN()"
      ]
    },
    {
      "cell_type": "markdown",
      "metadata": {
        "id": "6O2dxIV5t5da"
      },
      "source": [
        "### 2.3.2 Training CNN Model\n"
      ]
    },
    {
      "cell_type": "code",
      "execution_count": 33,
      "metadata": {
        "id": "lW3e2k4Vt5da",
        "colab": {
          "base_uri": "https://localhost:8080/"
        },
        "outputId": "ee3ae86e-8ae2-46bc-a4f6-1b7d4eb033a3"
      },
      "outputs": [
        {
          "output_type": "stream",
          "name": "stdout",
          "text": [
            "The loss for Epoch 0 is: 2.2480245317731584, Accuracy = 20.196666666666665\n",
            "The loss for Epoch 1 is: 1.7056160316284277, Accuracy = 52.086666666666666\n",
            "The loss for Epoch 2 is: 1.1134871166906377, Accuracy = 69.56666666666666\n",
            "The loss for Epoch 3 is: 0.8995278639071531, Accuracy = 75.02\n",
            "The loss for Epoch 4 is: 0.8023727099016023, Accuracy = 77.72666666666667\n",
            "The loss for Epoch 5 is: 0.7447767996076328, Accuracy = 79.09666666666666\n",
            "The loss for Epoch 6 is: 0.7055059011811132, Accuracy = 80.45333333333333\n",
            "The loss for Epoch 7 is: 0.6770311471368713, Accuracy = 80.92\n",
            "The loss for Epoch 8 is: 0.6556030265939261, Accuracy = 81.77\n",
            "The loss for Epoch 9 is: 0.6377947671072823, Accuracy = 82.02\n",
            "CPU times: user 1min 47s, sys: 618 ms, total: 1min 47s\n",
            "Wall time: 2min 7s\n"
          ]
        }
      ],
      "source": [
        "%%time\n",
        "\n",
        "cnn = CNN().to(device)\n",
        "criterion = nn.CrossEntropyLoss()\n",
        "optimizer = optim.Adam(cnn.parameters(), lr=1e-4)\n",
        "epoch = 10\n",
        "\n",
        "acc_LIST_CNN = []\n",
        "loss_LIST_CNN = []\n",
        "\n",
        "for epoch in range(epoch):\n",
        "  running_loss = 0.0\n",
        "  correct = 0\n",
        "  total = 0\n",
        "  for inputs, labels in train_loader:\n",
        "      labels = labels.type(torch.LongTensor) # Cast to Float\n",
        "      inputs, labels = inputs.to(device), labels.to(device)\n",
        "      optimizer.zero_grad()\n",
        "      outputs = cnn(inputs)\n",
        "      predicted = outputs.argmax(dim = 1)\n",
        "      loss = criterion(outputs, labels)\n",
        "      loss.backward()\n",
        "      optimizer.step()\n",
        "      running_loss += loss.item()\n",
        "      total += labels.size(0)\n",
        "      correct += (predicted == labels).sum().item()\n",
        "\n",
        "  accuracy = 100 * correct / total\n",
        "  acc_LIST_CNN.append(accuracy)\n",
        "  epoch_loss = running_loss / len(train_loader)\n",
        "  loss_LIST_CNN.append(epoch_loss)\n",
        "\n",
        "  print(\"The loss for Epoch {} is: {}, Accuracy = {}\".format(epoch, running_loss/len(train_loader), accuracy))"
      ]
    },
    {
      "cell_type": "markdown",
      "metadata": {
        "id": "wPowtEwjt5db"
      },
      "source": [
        "### 2.3.3 Plotting Training Accuracy vs Epochs CNN\n",
        "\n"
      ]
    },
    {
      "cell_type": "code",
      "execution_count": 34,
      "metadata": {
        "id": "pBZOYpJJt5db",
        "colab": {
          "base_uri": "https://localhost:8080/",
          "height": 333
        },
        "outputId": "ceba736b-cc1d-4623-8eec-27fca733d306"
      },
      "outputs": [
        {
          "output_type": "display_data",
          "data": {
            "text/plain": [
              "<Figure size 500x300 with 1 Axes>"
            ],
            "image/png": "[encoded data removed]"
          },
          "metadata": {}
        }
      ],
      "source": [
        "import matplotlib.pyplot as plt\n",
        "import seaborn as sns\n",
        "\n",
        "plt.figure(figsize = (5, 3))\n",
        "x_range = range(1, 11)\n",
        "sns.lineplot(x = x_range, y = acc_LIST_CNN)\n",
        "\n",
        "plt.xticks(x_range)\n",
        "plt.title('Training Accuracy vs Epochs')\n",
        "plt.xlabel('Epochs')\n",
        "plt.ylabel('Accuracy')\n",
        "\n",
        "plt.show()"
      ]
    },
    {
      "cell_type": "markdown",
      "metadata": {
        "id": "wCBs-UQ0t5db"
      },
      "source": [
        "### 2.3.4 CNN Model Test Accuracy\n",
        "\n"
      ]
    },
    {
      "cell_type": "code",
      "execution_count": 35,
      "metadata": {
        "id": "-uG-m_1bt5dc",
        "colab": {
          "base_uri": "https://localhost:8080/"
        },
        "outputId": "94ff3330-a6bc-43f1-d45b-9938773600fc"
      },
      "outputs": [
        {
          "output_type": "stream",
          "name": "stdout",
          "text": [
            "Test Accuracy: 78.0999984741211\n"
          ]
        }
      ],
      "source": [
        "total = 0\n",
        "correct = 0\n",
        "with torch.no_grad():\n",
        "    for images, labels in test_loader:\n",
        "        labels = labels.type(torch.LongTensor) # Cast to Float\n",
        "        images, labels = images.to(device), labels.to(device)\n",
        "        output = cnn(images)\n",
        "        prediction = output.argmax(dim=1)\n",
        "        total += labels.size(0)\n",
        "        correct += (prediction == labels).sum().item()\n",
        "\n",
        "test_acc_CNN = torch.tensor(100 * correct / total)\n",
        "\n",
        "print(f'Test Accuracy: ' + str(test_acc_CNN.item()))"
      ]
    },
    {
      "cell_type": "markdown",
      "metadata": {
        "id": "0sdUq8y07Luh"
      },
      "source": [
        "### 2.3.5 CNN Hyperparameter Tuning\n",
        "\n",
        "Hyperparameters tuned: `learning rate`, `beta1`, `beta2` and `number of fully connected layers`.\n"
      ]
    },
    {
      "cell_type": "code",
      "execution_count": 36,
      "metadata": {
        "id": "SKwAWi-XRmFo"
      },
      "outputs": [],
      "source": [
        "class CNNTuned(nn.Module):\n",
        "    def __init__(self, ff_layers = 3):\n",
        "        super().__init__()\n",
        "        self.num_ff_layers = ff_layers\n",
        "        self.conv = nn.Conv2d(in_channels = 3, out_channels = 16, kernel_size = 3, stride = 1, padding = 1)\n",
        "        self.conv2 = nn.Conv2d(in_channels = 16, out_channels = 32, kernel_size = 3, stride = 1, padding = 1)\n",
        "        self.mp = nn.MaxPool2d(kernel_size=2, stride = 2)\n",
        "        self.relu = nn.ReLU()\n",
        "        self.flatten = nn.Flatten(start_dim=1)\n",
        "        size = feature_map_dim(32, 1, 3, 1)\n",
        "        size = feature_map_dim(size, 0, 2, 2)\n",
        "        size = feature_map_dim(size, 1, 3, 1)\n",
        "        size = feature_map_dim(size, 0, 2, 2)\n",
        "\n",
        "        flattened_size = 32 * size * size\n",
        "        self.ff_layers = nn.ModuleList()\n",
        "\n",
        "        for i in range(self.num_ff_layers - 1):\n",
        "          self.ff_layers.append(nn.Linear(flattened_size, flattened_size // 2))\n",
        "          flattened_size = flattened_size // 2\n",
        "        self.ff_layers.append(nn.Linear(in_features=flattened_size, out_features=10))\n",
        "\n",
        "    def forward(self, x):\n",
        "      outputs = self.conv(x)\n",
        "      outputs = self.relu(outputs)\n",
        "      outputs = self.mp(outputs)\n",
        "      outputs = self.conv2(outputs)\n",
        "      outputs = self.relu(outputs)\n",
        "      outputs = self.mp(outputs)\n",
        "      outputs = self.flatten(outputs)\n",
        "\n",
        "      for i, fc in enumerate(self.ff_layers):\n",
        "            outputs = fc(outputs)\n",
        "            if i < self.num_ff_layers - 1:\n",
        "                outputs = self.relu(outputs)\n",
        "      return outputs\n"
      ]
    },
    {
      "cell_type": "code",
      "execution_count": 37,
      "metadata": {
        "id": "dN1osFGeXMdF"
      },
      "outputs": [],
      "source": [
        "from sklearn.model_selection import ParameterGrid"
      ]
    },
    {
      "cell_type": "code",
      "execution_count": 38,
      "metadata": {
        "id": "9TvYWvK29SMU"
      },
      "outputs": [],
      "source": [
        "param_grid  = {\n",
        "    'learning_rate': [0.001, 0.0005, 0.0001],\n",
        "    'betas': [(0.9, 0.999), (0.95, 0.999), (0.9, 0.995)],\n",
        "    'num_fc' : [1, 2, 3]\n",
        "}\n",
        "\n",
        "pgrid = ParameterGrid(param_grid)\n",
        "\n",
        "num_epochs = 5"
      ]
    },
    {
      "cell_type": "code",
      "execution_count": 39,
      "metadata": {
        "id": "uO7m__SZBENI",
        "colab": {
          "base_uri": "https://localhost:8080/"
        },
        "outputId": "7ef0cfa3-ffc6-4cba-99fb-bfe79054fffc"
      },
      "outputs": [
        {
          "output_type": "stream",
          "name": "stdout",
          "text": [
            "{'betas': (0.9, 0.999), 'learning_rate': 0.001, 'num_fc': 1} accuracy : 86.75\n",
            "{'betas': (0.9, 0.999), 'learning_rate': 0.001, 'num_fc': 2} accuracy : 92.62333333333333\n",
            "{'betas': (0.9, 0.999), 'learning_rate': 0.001, 'num_fc': 3} accuracy : 92.99666666666667\n",
            "{'betas': (0.9, 0.999), 'learning_rate': 0.0005, 'num_fc': 1} accuracy : 85.40666666666667\n",
            "{'betas': (0.9, 0.999), 'learning_rate': 0.0005, 'num_fc': 2} accuracy : 90.85666666666667\n",
            "{'betas': (0.9, 0.999), 'learning_rate': 0.0005, 'num_fc': 3} accuracy : 91.41666666666667\n",
            "{'betas': (0.9, 0.999), 'learning_rate': 0.0001, 'num_fc': 1} accuracy : 77.58666666666667\n",
            "{'betas': (0.9, 0.999), 'learning_rate': 0.0001, 'num_fc': 2} accuracy : 85.51\n",
            "{'betas': (0.9, 0.999), 'learning_rate': 0.0001, 'num_fc': 3} accuracy : 85.89\n",
            "{'betas': (0.95, 0.999), 'learning_rate': 0.001, 'num_fc': 1} accuracy : 86.24666666666667\n",
            "{'betas': (0.95, 0.999), 'learning_rate': 0.001, 'num_fc': 2} accuracy : 90.60333333333334\n",
            "{'betas': (0.95, 0.999), 'learning_rate': 0.001, 'num_fc': 3} accuracy : 91.88\n",
            "{'betas': (0.95, 0.999), 'learning_rate': 0.0005, 'num_fc': 1} accuracy : 85.38666666666667\n",
            "{'betas': (0.95, 0.999), 'learning_rate': 0.0005, 'num_fc': 2} accuracy : 90.92666666666666\n",
            "{'betas': (0.95, 0.999), 'learning_rate': 0.0005, 'num_fc': 3} accuracy : 91.34666666666666\n",
            "{'betas': (0.95, 0.999), 'learning_rate': 0.0001, 'num_fc': 1} accuracy : 77.26666666666667\n",
            "{'betas': (0.95, 0.999), 'learning_rate': 0.0001, 'num_fc': 2} accuracy : 85.48333333333333\n",
            "{'betas': (0.95, 0.999), 'learning_rate': 0.0001, 'num_fc': 3} accuracy : 85.05666666666667\n",
            "{'betas': (0.9, 0.995), 'learning_rate': 0.001, 'num_fc': 1} accuracy : 86.93\n",
            "{'betas': (0.9, 0.995), 'learning_rate': 0.001, 'num_fc': 2} accuracy : 93.50333333333333\n",
            "{'betas': (0.9, 0.995), 'learning_rate': 0.001, 'num_fc': 3} accuracy : 94.35666666666667\n",
            "{'betas': (0.9, 0.995), 'learning_rate': 0.0005, 'num_fc': 1} accuracy : 85.09333333333333\n",
            "{'betas': (0.9, 0.995), 'learning_rate': 0.0005, 'num_fc': 2} accuracy : 90.54333333333334\n",
            "{'betas': (0.9, 0.995), 'learning_rate': 0.0005, 'num_fc': 3} accuracy : 91.91333333333333\n",
            "{'betas': (0.9, 0.995), 'learning_rate': 0.0001, 'num_fc': 1} accuracy : 76.58\n",
            "{'betas': (0.9, 0.995), 'learning_rate': 0.0001, 'num_fc': 2} accuracy : 84.08333333333333\n",
            "{'betas': (0.9, 0.995), 'learning_rate': 0.0001, 'num_fc': 3} accuracy : 85.35\n"
          ]
        }
      ],
      "source": [
        "def cnn_train_and_evaluate(model, train_loader, optimizer, num_epochs):\n",
        "  criterion = nn.CrossEntropyLoss()\n",
        "  best_accuracy = 0\n",
        "  for epochs in range(num_epochs):\n",
        "    correct = 0\n",
        "    total = 0\n",
        "    for inputs, labels in train_loader:\n",
        "        labels = labels.type(torch.LongTensor) # Cast to Float\n",
        "        inputs, labels = inputs.to(device), labels.to(device)\n",
        "\n",
        "        optimizer.zero_grad()\n",
        "        outputs = model(inputs)\n",
        "        predicted = outputs.argmax(dim = 1)\n",
        "        loss = criterion(outputs, labels)\n",
        "        loss.backward()\n",
        "        optimizer.step()\n",
        "        total += labels.size(0)\n",
        "        correct += (predicted == labels).sum().item()\n",
        "\n",
        "    epoch_accuracy = 100 * correct / total\n",
        "    if epoch_accuracy > best_accuracy:\n",
        "          best_accuracy = epoch_accuracy\n",
        "\n",
        "  return best_accuracy\n",
        "\n",
        "best_params = None\n",
        "best_accuracy = 0;\n",
        "\n",
        "for params in pgrid:\n",
        "    model = CNNTuned(ff_layers=params['num_fc']).to(device)\n",
        "    optimizer = optim.Adam(model.parameters(), lr=params['learning_rate'], betas=params['betas'])\n",
        "    accuracy = cnn_train_and_evaluate(model, train_loader, optimizer, num_epochs)\n",
        "    print(str(params) + \" accuracy : \" + str(accuracy))\n",
        "\n",
        "    if accuracy > best_accuracy:\n",
        "        best_accuracy = accuracy\n",
        "        best_params = params"
      ]
    },
    {
      "cell_type": "code",
      "execution_count": 40,
      "metadata": {
        "id": "LHLkv8LjCD8o",
        "colab": {
          "base_uri": "https://localhost:8080/"
        },
        "outputId": "36542854-079e-4480-89fd-127bf38880fe"
      },
      "outputs": [
        {
          "output_type": "stream",
          "name": "stdout",
          "text": [
            "{'betas': (0.9, 0.995), 'learning_rate': 0.001, 'num_fc': 3}\n",
            "94.35666666666667\n"
          ]
        }
      ],
      "source": [
        "print(best_params)\n",
        "print(best_accuracy)"
      ]
    },
    {
      "cell_type": "code",
      "execution_count": 41,
      "metadata": {
        "id": "rdy2eXWpZ4sM",
        "colab": {
          "base_uri": "https://localhost:8080/"
        },
        "outputId": "8785e8c4-5b4b-4884-9ece-51a9e4502dbc"
      },
      "outputs": [
        {
          "output_type": "stream",
          "name": "stdout",
          "text": [
            "The loss for Epoch 0 is: 1.2946518076254105, Accuracy = 55.08\n",
            "The loss for Epoch 1 is: 0.5425456481765328, Accuracy = 83.46666666666667\n",
            "The loss for Epoch 2 is: 0.4201240964027356, Accuracy = 87.13333333333334\n",
            "The loss for Epoch 3 is: 0.3373247516085344, Accuracy = 89.59666666666666\n",
            "The loss for Epoch 4 is: 0.2647267627928938, Accuracy = 91.98333333333333\n",
            "The loss for Epoch 5 is: 0.20242195635207935, Accuracy = 93.86666666666666\n",
            "The loss for Epoch 6 is: 0.15687441115360906, Accuracy = 95.30666666666667\n",
            "The loss for Epoch 7 is: 0.11686439366578293, Accuracy = 96.41\n",
            "The loss for Epoch 8 is: 0.09626041408548795, Accuracy = 96.87333333333333\n",
            "The loss for Epoch 9 is: 0.07780415833349834, Accuracy = 97.5\n",
            "CPU times: user 1min 40s, sys: 439 ms, total: 1min 40s\n",
            "Wall time: 1min 41s\n"
          ]
        }
      ],
      "source": [
        "%%time\n",
        "\n",
        "cnn = CNNTuned(ff_layers=best_params['num_fc']).to(device)\n",
        "criterion = nn.CrossEntropyLoss()\n",
        "optimizer = optim.Adam(cnn.parameters(), lr=best_params['learning_rate'], betas=best_params['betas'])\n",
        "epoch = 10\n",
        "\n",
        "acc_LIST_CNN_TUNE = []\n",
        "loss_LIST_CNN_TUNE = []\n",
        "\n",
        "for epoch in range(epoch):\n",
        "  running_loss = 0.0\n",
        "  correct = 0\n",
        "  total = 0\n",
        "  for inputs, labels in train_loader:\n",
        "      labels = labels.type(torch.LongTensor) # Cast to Float\n",
        "      inputs, labels = inputs.to(device), labels.to(device)\n",
        "      optimizer.zero_grad()\n",
        "      outputs = cnn(inputs)\n",
        "      predicted = outputs.argmax(dim = 1)\n",
        "      loss = criterion(outputs, labels)\n",
        "      loss.backward()\n",
        "      optimizer.step()\n",
        "      running_loss += loss.item()\n",
        "      total += labels.size(0)\n",
        "      correct += (predicted == labels).sum().item()\n",
        "\n",
        "  accuracy = 100 * correct / total\n",
        "  acc_LIST_CNN_TUNE.append(accuracy)\n",
        "  epoch_loss = running_loss / len(train_loader)\n",
        "  loss_LIST_CNN_TUNE.append(epoch_loss)\n",
        "\n",
        "  print(\"The loss for Epoch {} is: {}, Accuracy = {}\".format(epoch, running_loss/len(train_loader), accuracy))"
      ]
    },
    {
      "cell_type": "code",
      "execution_count": 47,
      "metadata": {
        "id": "ix4esy4K-w0r",
        "colab": {
          "base_uri": "https://localhost:8080/"
        },
        "outputId": "ef28164e-bcee-4b3d-c8bb-311e68f8a015"
      },
      "outputs": [
        {
          "output_type": "stream",
          "name": "stdout",
          "text": [
            "Test Accuracy: 84.44000244140625\n"
          ]
        }
      ],
      "source": [
        "total = 0\n",
        "correct = 0\n",
        "with torch.no_grad():\n",
        "    for images, labels in test_loader:\n",
        "        labels = labels.type(torch.LongTensor) # Cast to Float\n",
        "        images, labels = images.to(device), labels.to(device)\n",
        "        output = cnn(images)\n",
        "        prediction = output.argmax(dim = 1)\n",
        "        total += labels.size(0)\n",
        "        correct += (prediction == labels).sum().item()\n",
        "\n",
        "test_acc_CNN = torch.tensor(100 * correct / total)\n",
        "\n",
        "print(f'Test Accuracy: ' + str(test_acc_CNN.item()))"
      ]
    },
    {
      "cell_type": "markdown",
      "metadata": {
        "id": "6zf6YZk3t5dc"
      },
      "source": [
        "## 2.4. Reflection\n"
      ]
    },
    {
      "cell_type": "markdown",
      "metadata": {
        "id": "rNLaEserlayE"
      },
      "source": [
        "\n",
        "Let's compare the model performance:\n",
        "\n",
        "From the test accuracies, we can see that FNN works better than Logistic Regression, and CNN works even better than FNN."
      ]
    },
    {
      "cell_type": "code",
      "execution_count": 43,
      "metadata": {
        "id": "iZCBqWa6lJSb",
        "colab": {
          "base_uri": "https://localhost:8080/"
        },
        "outputId": "5fdf1c8c-b072-4cb8-a1aa-faa36b7fca83"
      },
      "outputs": [
        {
          "output_type": "stream",
          "name": "stdout",
          "text": [
            "Test Accuracy for Logistic Regression: 19.34000015258789\n",
            "Test Accuracy for FNN: 74.22000122070312\n",
            "Test Accuracy for CNN: 84.44000244140625\n"
          ]
        }
      ],
      "source": [
        "print(f'Test Accuracy for Logistic Regression: ' + str(test_acc_log.item()))\n",
        "print(f'Test Accuracy for FNN: ' + str(test_acc_FNN.item()))\n",
        "print(f'Test Accuracy for CNN: ' + str(test_acc_CNN.item()))"
      ]
    },
    {
      "cell_type": "markdown",
      "metadata": {
        "id": "qVKpT1nRvOP8"
      },
      "source": [
        "## 2.5 Confusion Matrix\n",
        "\n",
        "\n",
        "\n",
        "\n"
      ]
    },
    {
      "cell_type": "markdown",
      "metadata": {
        "id": "HAbFnMXst_7i"
      },
      "source": [
        "### 2.5.1 Create confusion matrix\n"
      ]
    },
    {
      "cell_type": "code",
      "execution_count": 44,
      "metadata": {
        "id": "CVk7BesQt_7j"
      },
      "outputs": [],
      "source": [
        "import pandas as pd\n",
        "import numpy as np\n",
        "from sklearn.metrics import confusion_matrix\n",
        "\n",
        "def cm_generator(test_loader):\n",
        "  model.eval()\n",
        "  all_preds = []\n",
        "  all_labels = []\n",
        "\n",
        "  with torch.no_grad():\n",
        "        for inputs, labels in test_loader:\n",
        "            inputs, labels = inputs.to(device), labels.to(device)\n",
        "            outputs = model(inputs)\n",
        "            predicted = outputs.argmax(dim = 1)\n",
        "\n",
        "            all_preds.extend(predicted.cpu().numpy())\n",
        "            all_labels.extend(labels.cpu().numpy())\n",
        "\n",
        "  cm = confusion_matrix(all_labels, all_preds)\n",
        "\n",
        "  cm_df = pd.DataFrame(cm)\n",
        "\n",
        "  return cm_df\n",
        "\n",
        "confusion_matrix_df = cm_generator(test_loader)"
      ]
    },
    {
      "cell_type": "markdown",
      "metadata": {
        "id": "bfz3myW0t_7k"
      },
      "source": [
        "### 2.5.2 Visualizing Confusion Matrix\n"
      ]
    },
    {
      "cell_type": "code",
      "execution_count": 45,
      "metadata": {
        "id": "zMOQnqEAt_7k",
        "colab": {
          "base_uri": "https://localhost:8080/",
          "height": 410
        },
        "outputId": "8c924c59-35c0-40d4-c5c8-51d594c38b2c"
      },
      "outputs": [
        {
          "output_type": "display_data",
          "data": {
            "text/plain": [
              "<Figure size 800x400 with 2 Axes>"
            ],
            "image/png": "[encoded data removed]"
          },
          "metadata": {}
        }
      ],
      "source": [
        "fig = plt.figure(figsize = (8, 4))\n",
        "sns.heatmap(confusion_matrix_df, annot = True, fmt = \"g\", cmap = \"crest\")\n",
        "plt.title('Confusion Matrix')\n",
        "plt.ylabel('Actual')\n",
        "plt.xlabel('Predicted')\n",
        "plt.show()"
      ]
    }
  ],
  "metadata": {
    "accelerator": "GPU",
    "colab": {
      "provenance": []
    },
    "kernelspec": {
      "display_name": "Python 3",
      "name": "python3"
    },
    "language_info": {
      "name": "python"
    }
  },
  "nbformat": 4,
  "nbformat_minor": 0
}